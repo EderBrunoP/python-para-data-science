{
 "cells": [
  {
   "cell_type": "markdown",
   "id": "e11a30ff",
   "metadata": {},
   "source": [
    "# Este es un comentario de una línea\n",
    "print(10) # Podemos colocar otro comentario en una línea después de un código"
   ]
  },
  {
   "cell_type": "markdown",
   "id": "d168ae6e",
   "metadata": {},
   "source": [
    "'''\n",
    "Este es un comentario\n",
    "de varias líneas.\n",
    "'''"
   ]
  },
  {
   "cell_type": "markdown",
   "id": "949e02e2",
   "metadata": {},
   "source": []
  }
 ],
 "metadata": {
  "language_info": {
   "name": "python"
  }
 },
 "nbformat": 4,
 "nbformat_minor": 5
}
